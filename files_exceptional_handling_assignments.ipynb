{
  "nbformat": 4,
  "nbformat_minor": 0,
  "metadata": {
    "colab": {
      "provenance": []
    },
    "kernelspec": {
      "name": "python3",
      "display_name": "Python 3"
    },
    "language_info": {
      "name": "python"
    }
  },
  "cells": [
    {
      "cell_type": "markdown",
      "source": [
        "Question : What is the difference between interpreted and compiled languages?\n",
        "\n",
        "solution : Interpreted languages execute instructions directly, translating them line-by-line at runtime (e.g., Python). Compiled languages, however, are transformed into machine code by a compiler before execution (e.g., C/C++), which generally results in faster execution."
      ],
      "metadata": {
        "id": "ObFrLGdlpYma"
      }
    },
    {
      "cell_type": "markdown",
      "source": [
        "Question : What is exception handling in Python?\n",
        "\n",
        "solution : Exception handling is a mechanism to respond to errors or exceptional conditions that occur during program execution. In Python, you typically use try, except, and optionally finally blocks to manage these errors gracefully instead of crashing the program."
      ],
      "metadata": {
        "id": "-477PFldpsU2"
      }
    },
    {
      "cell_type": "markdown",
      "source": [
        "Question  : What is the purpose of the finally block in exception handling?\n",
        "\n",
        "solution: The finally block is used to execute code that must run regardless of whether an exception was raised or not. This is typically utilized for cleanup actions, such as closing a file or releasing resources."
      ],
      "metadata": {
        "id": "Yws1j4_Cp3g7"
      }
    },
    {
      "cell_type": "markdown",
      "source": [
        "Question: What is logging in Python?\n",
        "\n",
        "solution: Logging in Python is a way to track events that happen when your application runs. It helps developers understand the flow of execution and diagnose issues. The logging module provides a flexible framework for outputting log messages at different severity levels."
      ],
      "metadata": {
        "id": "G3ZqP6ywqLA_"
      }
    },
    {
      "cell_type": "markdown",
      "source": [
        "Question: What is the significance of the `__del__` Inline code`method in Python?\n",
        "\n",
        "solution: The `__del__` method is a destructor that is called when an object is about to be destroyed. It can be used to free up resources or carry out cleanup operations before the object is completely removed from memory."
      ],
      "metadata": {
        "id": "UjKzf20CqZXz"
      }
    },
    {
      "cell_type": "markdown",
      "source": [
        "Question: What is the difference between import and from ... import in Python?\n",
        "\n",
        "solution: Using import `<module>` makes the entire module available but requires you to prefix the module name when accessing its members. Using from `<module>` import `<name>` imports specific members directly into your namespace, allowing you to use the name directly without a prefix."
      ],
      "metadata": {
        "id": "PqIePHGDqzfA"
      }
    },
    {
      "cell_type": "markdown",
      "source": [
        "Question: How can you handle multiple exceptions in Python?\n",
        "\n",
        "solution : You can handle multiple exceptions using a single except block by specifying a tuple of exception types:"
      ],
      "metadata": {
        "id": "mNmyMzIhrBif"
      }
    },
    {
      "cell_type": "code",
      "source": [
        "try:\n",
        "    # Some code that might raise a TypeError or ValueError\n",
        "    result = 10 / 0  # This will raise a ZeroDivisionError\n",
        "except (TypeError, ValueError, ZeroDivisionError) as e:\n",
        "    print(f\"An error occurred: {e}\")\n"
      ],
      "metadata": {
        "colab": {
          "base_uri": "https://localhost:8080/"
        },
        "id": "ZT7O9O4jsGlf",
        "outputId": "dc0089cb-408f-46c7-a332-9815917e798f"
      },
      "execution_count": 2,
      "outputs": [
        {
          "output_type": "stream",
          "name": "stdout",
          "text": [
            "An error occurred: division by zero\n"
          ]
        }
      ]
    },
    {
      "cell_type": "markdown",
      "source": [
        "Question: What is the difference between multithreading and multiprocessing?\n",
        "\n",
        "solution : Multithreading involves running multiple threads within the same process, sharing the same memory space and resources, making it lightweight but potentially subject to conflicts. Multiprocessing, on the other hand, involves running multiple processes with their own memory space, making it more robust but with more overhead."
      ],
      "metadata": {
        "id": "lcn-58tqsLPv"
      }
    },
    {
      "cell_type": "markdown",
      "source": [
        "Question : What are the advantages of using logging in a program?\n",
        "\n",
        "solution : Advantages of logging include:\n",
        "\n",
        "**Debugging:** Helps identify issues during development.\n",
        "\n",
        "**Monitoring:** Provides insights into the program's operation.\n",
        "\n",
        "**Auditing**: Keeps a record of events, useful for security and compliance.\n",
        "\n",
        "**Level of importance**: Allows for varying levels of message severity."
      ],
      "metadata": {
        "id": "Lv3VlOS4sYZH"
      }
    },
    {
      "cell_type": "markdown",
      "source": [
        "Question: What is memory management in Python?\n",
        "\n",
        "solution: Memory management refers to the process of allocating and freeing memory space for program execution. Python uses a garbage collection system that automatically handles memory allocation and deallocates memory that is no longer in use."
      ],
      "metadata": {
        "id": "YQBzg5KHssRy"
      }
    },
    {
      "cell_type": "markdown",
      "source": [
        "Question: What are the basic steps involved in exception handling in Python?\n",
        "\n",
        "solution : The basic steps include:\n",
        "Write code in the **`try`** block that may raise an exception.\n",
        "\n",
        "Use one or more **`except`** blocks to catch and handle specific exceptions.\n",
        "\n",
        "Optionally, include a **`finally`** block for cleanup actions."
      ],
      "metadata": {
        "id": "FeEbqgzzs4S6"
      }
    },
    {
      "cell_type": "markdown",
      "source": [
        "Question: Why is memory management important in Python?\n",
        "\n",
        "solution : Effective memory management is crucial for performance and resource optimization. It prevents memory leaks, ensures efficient use of resources, and enhances the overall reliability of the application."
      ],
      "metadata": {
        "id": "nS6i0XlMtSp8"
      }
    },
    {
      "cell_type": "markdown",
      "source": [
        "Question: What is the role of try and except in exception handling?\n",
        "\n",
        "solution : The try block contains the code that may generate exceptions, while the except block defines how to respond to those exceptions. If an error occurs in the try block, the control is transferred to the corresponding except block."
      ],
      "metadata": {
        "id": "j_ey79fTtkHO"
      }
    },
    {
      "cell_type": "markdown",
      "source": [
        "Question : How does Python's garbage collection system work?\n",
        "\n",
        "solution : Python uses a combination of reference counting and a cyclic garbage collector to manage memory. Objects are kept alive while they are referenced. When there are no references, memory is freed. The garbage collector also looks for cyclic references that reference counting cannot clean up."
      ],
      "metadata": {
        "id": "1Q00QqBDtt5l"
      }
    },
    {
      "cell_type": "markdown",
      "source": [
        "Question : What is the purpose of the else block in exception handling?\n",
        "\n",
        "solution : The else block can be used after all except blocks. It runs if the code in the try block did not raise any exceptions, which allows for code that should execute only in the absence of errors."
      ],
      "metadata": {
        "id": "DVfJwIoBt2TS"
      }
    },
    {
      "cell_type": "markdown",
      "source": [
        "Question: What are the common logging levels in Python?\n",
        "\n",
        "The common logging levels are:\n",
        "**DEBUG:** Detailed information, typically for diagnosing problems.\n",
        "\n",
        "**INFO:** General information about the application's progress.\n",
        "\n",
        "**WARNING:** Indications that something unexpected happened.\n",
        "\n",
        "**ERROR:** A serious issue, preventing the application from performing a function.\n",
        "\n",
        "**CRITICAL:** A very serious error that might prevent the program from continuing."
      ],
      "metadata": {
        "id": "tQsRh6XJt-3M"
      }
    },
    {
      "cell_type": "markdown",
      "source": [
        "Question : What is the difference between os.fork() and multiprocessing in Python?\n",
        "\n",
        "solution : os.fork() creates a new process by duplicating the current process, resulting in a child process. In contrast, the multiprocessing module provides a higher-level interface to create and manage processes that can run independently, with options for communication and synchronization."
      ],
      "metadata": {
        "id": "MlQRoQDPuSSK"
      }
    },
    {
      "cell_type": "markdown",
      "source": [
        "Question: What is the importance of closing a file in Python?\n",
        "\n",
        "solution : Closing a file ensures that all changes have been written and system resources are released. Leaving files open can lead to resource leaks and data corruption, particularly when modifying content.\n"
      ],
      "metadata": {
        "id": "hPpXcWysuf-C"
      }
    },
    {
      "cell_type": "markdown",
      "source": [
        "Question: What is the difference between file.read() and file.readline() in Python?\n",
        "\n",
        "solution : **`file.read()`** reads the entire contents of the file as a single string, while **`file.readline()`** reads one line at a time. This allows for more controlled reading, especially with large files."
      ],
      "metadata": {
        "id": "DvOl44rVukH-"
      }
    },
    {
      "cell_type": "markdown",
      "source": [
        "What is the logging module in Python used for?\n",
        "\n",
        "solution : The logging module in Python is used to implement a flexible framework for emitting log messages from Python programs. It supports different severity levels and can be configured to output logs to various destinations."
      ],
      "metadata": {
        "id": "co4AG5mEuxu7"
      }
    },
    {
      "cell_type": "markdown",
      "source": [
        "Question : What is the os module in Python used for in file handling?\n",
        "\n",
        "solution : The os module in Python provides functionalities to interact with the operating system, including file handling operations, such as navigating directories, manipulating file paths, and handling file permissions.\n"
      ],
      "metadata": {
        "id": "aH1-oSMUvO89"
      }
    },
    {
      "cell_type": "markdown",
      "source": [
        "Question : What are the challenges associated with memory management in Python?\n",
        "\n",
        "solution : Challenges include:\n",
        "\n",
        "Memory leaks due to circular references.\n",
        "Overhead from garbage collection affecting performance.\n",
        "Balancing between manual and automatic memory management for different scenarios."
      ],
      "metadata": {
        "id": "1g1PTxJqwfhE"
      }
    },
    {
      "cell_type": "markdown",
      "source": [
        "Question : How do you raise an exception manually in Python?\n",
        "\n",
        "solution : You can raise an exception using the raise statement followed by the exception type:"
      ],
      "metadata": {
        "id": "d7n06Op2wsBC"
      }
    },
    {
      "cell_type": "code",
      "source": [
        "raise ValueError(\"This is a custom error message.\")\n"
      ],
      "metadata": {
        "id": "dzoE6iBHy0iW"
      },
      "execution_count": null,
      "outputs": []
    },
    {
      "cell_type": "markdown",
      "source": [
        "Question : Why is it important to use multithreading in certain applications?\n",
        "\n",
        "solution : **Multithreading** is important for improving application responsiveness and resource utilization, especially in I/O-bound applications (like web servers) where tasks can run concurrently, allowing better performance without blocking the main execution flow."
      ],
      "metadata": {
        "id": "gpHZ3SZ6w81a"
      }
    },
    {
      "cell_type": "markdown",
      "source": [
        "PRACTICAL QUESTION :"
      ],
      "metadata": {
        "id": "YoS985LXxLFx"
      }
    },
    {
      "cell_type": "markdown",
      "source": [
        "SOLUTION 1: Open a file for writing and write a string to it"
      ],
      "metadata": {
        "id": "WCIgUtJPxUJ3"
      }
    },
    {
      "cell_type": "code",
      "source": [
        "with open('output.txt', 'w') as file:\n",
        "    file.write('This is a sample string.')\n"
      ],
      "metadata": {
        "id": "eXiXamRxxSzR"
      },
      "execution_count": 12,
      "outputs": []
    },
    {
      "cell_type": "markdown",
      "source": [
        "SOLUTION 2: Read the contents of a file and print each line."
      ],
      "metadata": {
        "id": "5meP3a4BzvlS"
      }
    },
    {
      "cell_type": "code",
      "source": [
        "try:\n",
        "    with open('input.txt', 'r') as file:\n",
        "        for line in file:\n",
        "            print(line.strip())\n",
        "except FileNotFoundError:\n",
        "    print(\"The file does not exist!\")\n"
      ],
      "metadata": {
        "colab": {
          "base_uri": "https://localhost:8080/"
        },
        "id": "5oJeGf1j1NJr",
        "outputId": "038f0ca8-2299-4273-b8ee-e090f763a383"
      },
      "execution_count": 15,
      "outputs": [
        {
          "output_type": "stream",
          "name": "stdout",
          "text": [
            "The file does not exist!\n"
          ]
        }
      ]
    },
    {
      "cell_type": "markdown",
      "source": [
        "SOLUTION 3: Handle a case where the file doesn’t exist while trying to open it for reading"
      ],
      "metadata": {
        "id": "Vp7VL2Xl1Tjf"
      }
    },
    {
      "cell_type": "code",
      "source": [
        "try:\n",
        "    with open('non_existent_file.txt', 'r') as file:\n",
        "        content = file.read()\n",
        "except FileNotFoundError:\n",
        "    print(\"The file does not exist!\")\n"
      ],
      "metadata": {
        "colab": {
          "base_uri": "https://localhost:8080/"
        },
        "id": "EPSKgFsC1TM3",
        "outputId": "48bccd24-0bb4-4fb2-ae5d-b07a1009cfae"
      },
      "execution_count": 16,
      "outputs": [
        {
          "output_type": "stream",
          "name": "stdout",
          "text": [
            "The file does not exist!\n"
          ]
        }
      ]
    },
    {
      "cell_type": "markdown",
      "source": [
        "SOLUTION:4 Read from one file and write its content to another file"
      ],
      "metadata": {
        "id": "UFI99tMC2Blk"
      }
    },
    {
      "cell_type": "code",
      "source": [
        "try:\n",
        "    with open('source.txt', 'r') as source_file:\n",
        "        content = source_file.read()\n",
        "\n",
        "    with open('destination.txt', 'w') as destination_file:\n",
        "        destination_file.write(content)\n",
        "\n",
        "except FileNotFoundError:\n",
        "    print(\"The source file does not exist.\")\n",
        "except IOError:\n",
        "    print(\"An error occurred while accessing the file.\")\n"
      ],
      "metadata": {
        "colab": {
          "base_uri": "https://localhost:8080/"
        },
        "id": "cYT4_tzL8d-w",
        "outputId": "1232570f-b573-427b-82e9-e829a2cf5b85"
      },
      "execution_count": 55,
      "outputs": [
        {
          "output_type": "stream",
          "name": "stdout",
          "text": [
            "The source file does not exist.\n"
          ]
        }
      ]
    },
    {
      "cell_type": "markdown",
      "source": [
        "SOLUTION 5:  Catch and handle division by zero error"
      ],
      "metadata": {
        "id": "KlEpVrLb2hiJ"
      }
    },
    {
      "cell_type": "code",
      "source": [
        "try:\n",
        "    result = 10 / 0\n",
        "except ZeroDivisionError:\n",
        "    print(\"Division by zero error occurred!\")\n"
      ],
      "metadata": {
        "colab": {
          "base_uri": "https://localhost:8080/"
        },
        "id": "9cp5MZEh2hEr",
        "outputId": "cde94fe5-c11b-4b17-fb5d-69b7b1124d27"
      },
      "execution_count": 19,
      "outputs": [
        {
          "output_type": "stream",
          "name": "stdout",
          "text": [
            "Division by zero error occurred!\n"
          ]
        }
      ]
    },
    {
      "cell_type": "markdown",
      "source": [
        "SOLUTION 6: Log an error message to a log file when division by zero occurs"
      ],
      "metadata": {
        "id": "BFKrhT-j2xhq"
      }
    },
    {
      "cell_type": "code",
      "source": [
        "import logging\n",
        "\n",
        "logging.basicConfig(filename='error.log', level=logging.ERROR)\n",
        "\n",
        "try:\n",
        "    result = 10 / 0\n",
        "except ZeroDivisionError as e:\n",
        "    logging.error(\"Division by zero error occurred: %s\", e)\n"
      ],
      "metadata": {
        "colab": {
          "base_uri": "https://localhost:8080/"
        },
        "id": "-5Tjv7hj2u4N",
        "outputId": "2817d70e-db6c-42f1-8421-8db9f6e825ee"
      },
      "execution_count": 20,
      "outputs": [
        {
          "output_type": "stream",
          "name": "stderr",
          "text": [
            "ERROR:root:Division by zero error occurred: division by zero\n"
          ]
        }
      ]
    },
    {
      "cell_type": "markdown",
      "source": [
        "SOLUTION 7:"
      ],
      "metadata": {
        "id": "bOzDzVF82vRd"
      }
    },
    {
      "cell_type": "code",
      "source": [
        "import logging\n",
        "\n",
        "logging.basicConfig(level=logging.INFO)\n",
        "\n",
        "logging.info(\"This is an info message.\")\n",
        "logging.warning(\"This is a warning message.\")\n",
        "logging.error(\"This is an error message.\")\n"
      ],
      "metadata": {
        "colab": {
          "base_uri": "https://localhost:8080/"
        },
        "id": "lF0hLFMD3Mui",
        "outputId": "eb5b6a93-77c1-4867-c4fb-ba794453cfe6"
      },
      "execution_count": 21,
      "outputs": [
        {
          "output_type": "stream",
          "name": "stderr",
          "text": [
            "WARNING:root:This is a warning message.\n",
            "ERROR:root:This is an error message.\n"
          ]
        }
      ]
    },
    {
      "cell_type": "markdown",
      "source": [
        "SOLUTION 8: Handle a file opening error using exception handling"
      ],
      "metadata": {
        "id": "lMp_8NK-3WcN"
      }
    },
    {
      "cell_type": "code",
      "source": [
        "try:\n",
        "    with open('somefile.txt', 'r') as file:\n",
        "        content = file.read()\n",
        "except IOError as e:\n",
        "    print(e)\n"
      ],
      "metadata": {
        "colab": {
          "base_uri": "https://localhost:8080/"
        },
        "id": "HWseyX6d3VZz",
        "outputId": "425d2869-2b7e-4cc8-ba43-0046998c1170"
      },
      "execution_count": 22,
      "outputs": [
        {
          "output_type": "stream",
          "name": "stdout",
          "text": [
            "[Errno 2] No such file or directory: 'somefile.txt'\n"
          ]
        }
      ]
    },
    {
      "cell_type": "markdown",
      "source": [
        "SOLUTION 9: Read a file line by line and store its content in a list"
      ],
      "metadata": {
        "id": "ZarYtNCK3had"
      }
    },
    {
      "cell_type": "code",
      "source": [
        "with open('input.txt', 'r') as file:\n",
        "   lines = file.readlines()\n",
        "\n",
        "lines_list = [line.strip() for line in lines]\n",
        "print(lines_list)\n",
        "\n",
        "print(lines_list)\n"
      ],
      "metadata": {
        "colab": {
          "base_uri": "https://localhost:8080/"
        },
        "id": "XHfKs4LJ3g9E",
        "outputId": "5ec2b37e-f09c-49ea-b305-f2c5b251101b"
      },
      "execution_count": 31,
      "outputs": [
        {
          "output_type": "stream",
          "name": "stdout",
          "text": [
            "['Appending this line.']\n",
            "['Appending this line.']\n"
          ]
        }
      ]
    },
    {
      "cell_type": "markdown",
      "source": [
        "SOLUTION : 10"
      ],
      "metadata": {
        "id": "Ur5n5KoQ3v-_"
      }
    },
    {
      "cell_type": "code",
      "source": [
        "with open('output.txt', 'a') as file:\n",
        "    file.write('Appending this line.\\n')\n",
        "\n",
        "\n"
      ],
      "metadata": {
        "id": "ppfkhTsf32r-"
      },
      "execution_count": 54,
      "outputs": []
    },
    {
      "cell_type": "markdown",
      "source": [
        "solution 11:"
      ],
      "metadata": {
        "id": "F5P-o78d4eie"
      }
    },
    {
      "cell_type": "code",
      "source": [
        "my_dict = {'a': 1}\n",
        "\n",
        "try:\n",
        "    value = my_dict['b']\n",
        "except KeyError:\n",
        "    print(\"Key 'b' does not exist.\")\n"
      ],
      "metadata": {
        "colab": {
          "base_uri": "https://localhost:8080/"
        },
        "id": "oSUSGuEm3viE",
        "outputId": "d4a988a2-1a07-4a6a-9e26-5a26c4280b91"
      },
      "execution_count": 32,
      "outputs": [
        {
          "output_type": "stream",
          "name": "stdout",
          "text": [
            "Key 'b' does not exist.\n"
          ]
        }
      ]
    },
    {
      "cell_type": "markdown",
      "source": [
        "solution :"
      ],
      "metadata": {
        "id": "M42CQy344mSq"
      }
    },
    {
      "cell_type": "code",
      "source": [
        "try:\n",
        "    num = int(input(\"Enter a number: \"))\n",
        "    result = 10 / num\n",
        "except ValueError:\n",
        "    print(\"That's not a number!\")\n",
        "except ZeroDivisionError:\n",
        "    print(\"Cannot divide by zero!\")\n"
      ],
      "metadata": {
        "colab": {
          "base_uri": "https://localhost:8080/"
        },
        "id": "G-CDzp1x4l3W",
        "outputId": "53dbad94-8740-4252-94e8-b176562cff1c"
      },
      "execution_count": 37,
      "outputs": [
        {
          "name": "stdout",
          "output_type": "stream",
          "text": [
            "Enter a number: 9\n"
          ]
        }
      ]
    },
    {
      "cell_type": "markdown",
      "source": [
        "solution 13 : Check if a file exists before attempting to read it"
      ],
      "metadata": {
        "id": "ZArzjuNi5ESU"
      }
    },
    {
      "cell_type": "code",
      "source": [
        "import os\n",
        "\n",
        "if os.path.exists('input.txt'):\n",
        "    with open('input.txt', 'r') as file:\n",
        "        content = file.read()\n",
        "else:\n",
        "    print(\"File does not exist.\")\n"
      ],
      "metadata": {
        "id": "IquL30wl5LsO"
      },
      "execution_count": 38,
      "outputs": []
    },
    {
      "cell_type": "markdown",
      "source": [
        "solution 14 : Use logging to log both informational and error messages"
      ],
      "metadata": {
        "id": "N_8XmZu45QlX"
      }
    },
    {
      "cell_type": "code",
      "source": [
        "import logging\n",
        "\n",
        "logging.basicConfig(filename='logfile.log', level=logging.DEBUG)\n",
        "\n",
        "logging.info(\"This is an informational message.\")\n",
        "logging.error(\"This is an error message.\")\n"
      ],
      "metadata": {
        "colab": {
          "base_uri": "https://localhost:8080/"
        },
        "id": "_Vp2WzGJ5QQs",
        "outputId": "f8a3d642-5626-4d12-b7fd-5ff1bfe5aa10"
      },
      "execution_count": 39,
      "outputs": [
        {
          "output_type": "stream",
          "name": "stderr",
          "text": [
            "ERROR:root:This is an error message.\n"
          ]
        }
      ]
    },
    {
      "cell_type": "markdown",
      "source": [
        "solution 15 : Print the content of a file and handle case if the file is empty"
      ],
      "metadata": {
        "id": "DO99fb5h5b11"
      }
    },
    {
      "cell_type": "code",
      "source": [
        "try:\n",
        "    with open('input.txt', 'r') as file:\n",
        "        content = file.read()\n",
        "        if not content:\n",
        "            print(\"The file is empty.\")\n",
        "        else:\n",
        "            print(content)\n",
        "except FileNotFoundError:\n",
        "    print(\"File does not exist.\")\n"
      ],
      "metadata": {
        "colab": {
          "base_uri": "https://localhost:8080/"
        },
        "id": "s_NYvCqE5bZx",
        "outputId": "f3e49bef-c0cc-4b30-9947-69aaa7dc18f9"
      },
      "execution_count": 40,
      "outputs": [
        {
          "output_type": "stream",
          "name": "stdout",
          "text": [
            "Appending this line.\n",
            "\n"
          ]
        }
      ]
    },
    {
      "cell_type": "markdown",
      "source": [
        "solution 16:"
      ],
      "metadata": {
        "id": "GpGz2fk15nBx"
      }
    },
    {
      "cell_type": "code",
      "source": [
        "import tracemalloc\n",
        "\n",
        "tracemalloc.start()\n",
        "\n",
        "def memory_intensive_function():\n",
        "    a = [i for i in range(10000)]  # Increased size for practical memory profiling\n",
        "    return a\n",
        "\n",
        "snapshot1 = tracemalloc.take_snapshot()\n",
        "memory_intensive_function()\n",
        "snapshot2 = tracemalloc.take_snapshot()\n",
        "\n",
        "top_stats = snapshot2.compare_to(snapshot1, 'lineno')\n",
        "\n",
        "print(\"[Top 10 Memory Usage]:\")\n",
        "for stat in top_stats[:10]:\n",
        "    print(stat)\n",
        "\n"
      ],
      "metadata": {
        "colab": {
          "base_uri": "https://localhost:8080/"
        },
        "id": "2iMsJtNz5mof",
        "outputId": "b346f428-b3bf-438c-c90e-7ef24b05aa57"
      },
      "execution_count": 44,
      "outputs": [
        {
          "output_type": "stream",
          "name": "stdout",
          "text": [
            "[Top 10 Memory Usage]:\n",
            "/usr/lib/python3.11/tracemalloc.py:558: size=12.2 KiB (+5864 B), count=258 (+121), average=48 B\n",
            "/usr/lib/python3.11/tracemalloc.py:193: size=12.2 KiB (-5280 B), count=260 (-110), average=48 B\n",
            "/usr/lib/python3.11/tracemalloc.py:560: size=840 B (+272 B), count=6 (+2), average=140 B\n",
            "/usr/lib/python3.11/tracemalloc.py:423: size=840 B (+272 B), count=6 (+2), average=140 B\n",
            "/usr/lib/python3.11/codeop.py:125: size=3351 B (-200 B), count=45 (-4), average=74 B\n",
            "/usr/lib/python3.11/enum.py:1105: size=240 B (-192 B), count=5 (-4), average=48 B\n",
            "/usr/lib/python3.11/asyncio/base_events.py:782: size=288 B (-144 B), count=3 (-2), average=96 B\n",
            "/usr/local/lib/python3.11/dist-packages/IPython/core/interactiveshell.py:3545: size=0 B (-48 B), count=0 (-1)\n",
            "/usr/local/lib/python3.11/dist-packages/IPython/core/compilerop.py:101: size=14.3 KiB (+0 B), count=152 (+0), average=97 B\n",
            "<frozen abc>:123: size=11.6 KiB (+0 B), count=137 (+0), average=87 B\n"
          ]
        }
      ]
    },
    {
      "cell_type": "markdown",
      "source": [
        "solution 17 : Create and write a list of numbers to a file, one number per line"
      ],
      "metadata": {
        "id": "ZLjLvKtS5-c_"
      }
    },
    {
      "cell_type": "code",
      "source": [
        "numbers = [1, 2, 3, 4, 5]\n",
        "\n",
        "with open('numbers.txt', 'w') as file:\n",
        "    for number in numbers:\n",
        "        file.write(f\"{number}\\n\")\n"
      ],
      "metadata": {
        "id": "jHdP2BGk5-Iq"
      },
      "execution_count": 45,
      "outputs": []
    },
    {
      "cell_type": "markdown",
      "source": [
        "solution 18 :"
      ],
      "metadata": {
        "id": "xciv4o3W6Ie8"
      }
    },
    {
      "cell_type": "code",
      "source": [
        "import logging\n",
        "from logging.handlers import RotatingFileHandler\n",
        "\n",
        "logger = logging.getLogger('RotatingLog')\n",
        "handler = RotatingFileHandler('rotating_log.log', maxBytes=2000, backupCount=5)\n",
        "logger.addHandler(handler)\n",
        "logger.setLevel(logging.INFO)\n",
        "\n",
        "logger.info('This is an informational message.')\n"
      ],
      "metadata": {
        "colab": {
          "base_uri": "https://localhost:8080/"
        },
        "id": "QcS3sawx6IJi",
        "outputId": "98a0029b-b7d5-4f8f-c838-4edc2284bae9"
      },
      "execution_count": 46,
      "outputs": [
        {
          "output_type": "stream",
          "name": "stderr",
          "text": [
            "INFO:RotatingLog:This is an informational message.\n"
          ]
        }
      ]
    },
    {
      "cell_type": "markdown",
      "source": [
        "solution 19: Open a file and read its contents using a context manager"
      ],
      "metadata": {
        "id": "zTv7HfhS6TGy"
      }
    },
    {
      "cell_type": "code",
      "source": [
        "with open('input.txt', 'r') as file:\n",
        "    content = file.read()\n",
        "    print(content)\n"
      ],
      "metadata": {
        "colab": {
          "base_uri": "https://localhost:8080/"
        },
        "id": "QbsrzM-y6SvJ",
        "outputId": "412f8854-63dd-44ac-9537-87a4e4017602"
      },
      "execution_count": 47,
      "outputs": [
        {
          "output_type": "stream",
          "name": "stdout",
          "text": [
            "Appending this line.\n",
            "\n"
          ]
        }
      ]
    },
    {
      "cell_type": "markdown",
      "source": [
        "solution 20:"
      ],
      "metadata": {
        "id": "tIA4qdgc6iFJ"
      }
    },
    {
      "cell_type": "code",
      "source": [
        "word = \"example\"\n",
        "with open('input.txt', 'r') as file:\n",
        "    content = file.read()\n",
        "    count = content.count(word)\n",
        "print(f\"The word '{word}' occurred {count} times.\")\n"
      ],
      "metadata": {
        "colab": {
          "base_uri": "https://localhost:8080/"
        },
        "id": "SnVj4Gv36hpP",
        "outputId": "9e3dfeee-4b18-48b7-e538-a98f2d700358"
      },
      "execution_count": 48,
      "outputs": [
        {
          "output_type": "stream",
          "name": "stdout",
          "text": [
            "The word 'example' occurred 0 times.\n"
          ]
        }
      ]
    },
    {
      "cell_type": "markdown",
      "source": [
        "solution 21:"
      ],
      "metadata": {
        "id": "JhJSaHFK6qJS"
      }
    },
    {
      "cell_type": "code",
      "source": [
        "import logging\n",
        "\n",
        "logging.basicConfig(filename='file_error.log', level=logging.ERROR)\n",
        "\n",
        "try:\n",
        "    with open('input.txt', 'r') as file:\n",
        "        content = file.read()\n",
        "except Exception as e:\n",
        "    logging.error(\"Error while handling the file: %s\", e)\n"
      ],
      "metadata": {
        "id": "gKOTiwg46pso"
      },
      "execution_count": 49,
      "outputs": []
    },
    {
      "cell_type": "markdown",
      "source": [
        "solution : 22"
      ],
      "metadata": {
        "id": "loXUqS8j6zh8"
      }
    },
    {
      "cell_type": "code",
      "source": [
        "try:\n",
        "    with open('input.txt', 'r') as file:\n",
        "        if os.stat('input.txt').st_size == 0:\n",
        "            print(\"File is empty.\")\n",
        "        else:\n",
        "            content = file.read()\n",
        "            print(content)\n",
        "except FileNotFoundError:\n",
        "    print(\"File does not exist.\")\n"
      ],
      "metadata": {
        "colab": {
          "base_uri": "https://localhost:8080/"
        },
        "id": "jCayaBbI6zFV",
        "outputId": "62b459d5-abcb-4056-d870-28c21fe3c3a8"
      },
      "execution_count": 50,
      "outputs": [
        {
          "output_type": "stream",
          "name": "stdout",
          "text": [
            "Appending this line.\n",
            "\n"
          ]
        }
      ]
    },
    {
      "cell_type": "markdown",
      "source": [
        "solution 23:"
      ],
      "metadata": {
        "id": "bybxG4bO68OE"
      }
    },
    {
      "cell_type": "code",
      "source": [
        "import logging\n",
        "\n",
        "logging.basicConfig(filename='file_error.log', level=logging.ERROR)\n",
        "\n",
        "try:\n",
        "    with open('input.txt', 'r') as file:\n",
        "        content = file.read()\n",
        "except Exception as e:\n",
        "    logging.error(\"Error while handling the file: %s\", e)\n"
      ],
      "metadata": {
        "id": "_beV0LdZ671s"
      },
      "execution_count": 51,
      "outputs": []
    }
  ]
}